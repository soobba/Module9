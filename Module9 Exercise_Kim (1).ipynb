{
 "cells": [
  {
   "cell_type": "markdown",
   "metadata": {},
   "source": [
    "### Exercise 1. \n",
    "Create a dictionary named pairs with key value pairs of:\n",
    "    - 'hello' and 'fire', \n",
    "    - 3 and 'seven', \n",
    "    - 'strong' and 45. \n",
    "\n",
    "Then, print out the dictionary."
   ]
  },
  {
   "cell_type": "code",
   "execution_count": 1,
   "metadata": {},
   "outputs": [
    {
     "name": "stdout",
     "output_type": "stream",
     "text": [
      "{'hello': 'fire', -3: 'seven', 'strong': 45}\n"
     ]
    }
   ],
   "source": [
    "pairs = {'hello' : 'fire', -3 : 'seven', 'strong' : 45}\n",
    "print(pairs)"
   ]
  },
  {
   "cell_type": "markdown",
   "metadata": {},
   "source": [
    "### Exercise 2. \n",
    "Add 'welcome' and 56 pair into <b><i>pairs</i></b> dictionary from exercise 1. Then, print out the dictionary. "
   ]
  },
  {
   "cell_type": "code",
   "execution_count": 2,
   "metadata": {},
   "outputs": [
    {
     "name": "stdout",
     "output_type": "stream",
     "text": [
      "{'hello': 'fire', -3: 'seven', 'strong': 45, 'welcome': 56}\n"
     ]
    }
   ],
   "source": [
    "pairs['welcome'] = 56\n",
    "print(pairs)"
   ]
  },
  {
   "cell_type": "markdown",
   "metadata": {},
   "source": [
    "### Exercise 3. \n",
    "Delete one item from <b><i>pairs</i></b> dictionary. Then, print deleted item and the dictionary."
   ]
  },
  {
   "cell_type": "code",
   "execution_count": 3,
   "metadata": {},
   "outputs": [
    {
     "name": "stdout",
     "output_type": "stream",
     "text": [
      "('welcome', 56)\n",
      "{'hello': 'fire', -3: 'seven', 'strong': 45}\n"
     ]
    }
   ],
   "source": [
    "item = pairs.popitem()\n",
    "print(item)    # deleted item\n",
    "print(pairs)"
   ]
  },
  {
   "cell_type": "markdown",
   "metadata": {},
   "source": [
    "### Exercise 4. \n",
    "Print the value of an item where key is 3 in <b><i>pairs</i></b> dicitonary"
   ]
  },
  {
   "cell_type": "code",
   "execution_count": 4,
   "metadata": {},
   "outputs": [
    {
     "name": "stdout",
     "output_type": "stream",
     "text": [
      "Unknown\n"
     ]
    }
   ],
   "source": [
    "if 3 in pairs :\n",
    "    print(pairs[3])\n",
    "else :\n",
    "    print(\"Unknown\")"
   ]
  },
  {
   "cell_type": "markdown",
   "metadata": {},
   "source": [
    "### Exercise 5. \n",
    "Try to find out if the key called 'hello' exist in <b><i>pairs</i></b> dictionary. Print 'key is found' message if the key exists otherwise print 'key is not there'."
   ]
  },
  {
   "cell_type": "code",
   "execution_count": 5,
   "metadata": {},
   "outputs": [
    {
     "name": "stdout",
     "output_type": "stream",
     "text": [
      "key is found\n"
     ]
    }
   ],
   "source": [
    "if 'hello' in pairs :\n",
    "    print(\"key is found\")\n",
    "else :\n",
    "    print(\"key is not there\")"
   ]
  },
  {
   "cell_type": "markdown",
   "metadata": {},
   "source": [
    "### Exercise 6. \n",
    "Create a Test Scores program that gets the name of students and test score from a user. Then, generate a list of students who passed and a list of students who failed where passing test score is 60 or above. "
   ]
  },
  {
   "cell_type": "code",
   "execution_count": 6,
   "metadata": {},
   "outputs": [
    {
     "name": "stdout",
     "output_type": "stream",
     "text": [
      "What is your name? (or 'q' to quit): Soojin\n",
      "What is your test score? 90\n",
      "What is your name? (or 'q' to quit): Prolex\n",
      "What is your test score? 80\n",
      "What is your name? (or 'q' to quit): Zachary\n",
      "What is your test score? 20\n",
      "What is your name? (or 'q' to quit): Ayla\n",
      "What is your test score? 60\n",
      "What is your name? (or 'q' to quit): Minnie\n",
      "What is your test score? 50\n",
      "What is your name? (or 'q' to quit): q\n",
      "The students who passed are ['Soojin', 'Prolex', 'Ayla'] and the students who failed are ['Zachary', 'Minnie']\n"
     ]
    }
   ],
   "source": [
    "tests_scores = []\n",
    "p_result = []\n",
    "f_result = []\n",
    "\n",
    "while True :\n",
    "    name = input(\"What is your name? (or 'q' to quit): \")\n",
    "    if name == 'q' :\n",
    "        break\n",
    "    scores = int(input(\"What is your test score? \")) \n",
    "    if scores >= 60 :\n",
    "        p_result.append(name)\n",
    "    elif scores < 60 :\n",
    "        f_result.append(name)\n",
    "    continue\n",
    "            \n",
    "print(f\"The students who passed are\", p_result, \"and the students who failed are\", f_result)     "
   ]
  },
  {
   "cell_type": "markdown",
   "metadata": {},
   "source": [
    "### Exercise 7. \n",
    "\n",
    "Create a Word Counter program that gets a string of text from a user and then counts the number of times a word occrs in the string. \n",
    "\n",
    "The output should look something like this:\n",
    "\n",
    "    The Word Counter Program\n",
    "    \n",
    "    Enter a text string: \n",
    "    Humpty Dumpty sat on a wall, Humpty Dumpty had a great fall. All the king’s horses and all the king’s men couldn’t put Humpty together again.\n",
    "\n",
    "    a : 2\n",
    "    again : 1\n",
    "    all : 2\n",
    "    and : 1\n",
    "    couldn’t : 1\n",
    "    dumpty : 2\n",
    "    fall : 1\n",
    "    great : 1\n",
    "    had : 1\n",
    "    horses : 1\n",
    "    humpty : 3\n",
    "    king’s : 2\n",
    "    men : 1\n",
    "    on : 1\n",
    "    put : 1\n",
    "    sat : 1\n",
    "    the : 2\n",
    "    together : 1\n",
    "    wall : 1\n",
    "\n",
    "    There were total 26 words in the text string   "
   ]
  },
  {
   "cell_type": "code",
   "execution_count": 68,
   "metadata": {},
   "outputs": [
    {
     "name": "stdout",
     "output_type": "stream",
     "text": [
      "The Word Counter Program \n",
      "\n",
      "Enter a text string:\n",
      "Humpty Dumpty sat on a wall, Humpty Dumpty had a great fall. All the king’s horses and all the king’s men couldn’t put Humpty together again.\n",
      "\n",
      "\n",
      "a : 2\n",
      "again : 1\n",
      "all : 2\n",
      "and : 1\n",
      "couldn’t : 1\n",
      "dumpty : 2\n",
      "fall : 1\n",
      "great : 1\n",
      "had : 1\n",
      "horses : 1\n",
      "humpty : 3\n",
      "king’s : 2\n",
      "men : 1\n",
      "on : 1\n",
      "put : 1\n",
      "sat : 1\n",
      "the : 2\n",
      "together : 1\n",
      "wall : 1\n",
      "\n",
      "There were total 26 words in the text string\n"
     ]
    }
   ],
   "source": [
    "print(\"The Word Counter Program\", '\\n')\n",
    "str = input(\"Enter a text string:\\n\")\n",
    "nocomma = str.replace(',', '')\n",
    "noperiod = nocomma.replace('.', '')   # remove comma and period\n",
    "#print(noperiod)\n",
    "\n",
    "lower = noperiod.lower()              # Change all uppercase to lowercase\n",
    "#print(lower)\n",
    "print(\"\\r\")\n",
    "\n",
    "word = lower.split(\" \")               # Split each word\n",
    "word.sort()                           # Sort by alphabetical order\n",
    "#print(word)\n",
    "print(\"\\r\")\n",
    "\n",
    "new_list = []\n",
    "length = len(word)\n",
    "\n",
    "for i in word :\n",
    "    if i not in new_list :\n",
    "        new_list.append(i)\n",
    "#print(new_list)\n",
    "\n",
    "\n",
    "\n",
    "n_length = len(new_list)\n",
    "\n",
    "for i in range(n_length) :\n",
    "    print(new_list[i], \":\", word.count(new_list[i])) \n",
    "    \n",
    "print(\"\\r\")    \n",
    "print(f\"There were total\", length, \"words in the text string\") "
   ]
  }
 ],
 "metadata": {
  "kernelspec": {
   "display_name": "Python 3",
   "language": "python",
   "name": "python3"
  },
  "language_info": {
   "codemirror_mode": {
    "name": "ipython",
    "version": 3
   },
   "file_extension": ".py",
   "mimetype": "text/x-python",
   "name": "python",
   "nbconvert_exporter": "python",
   "pygments_lexer": "ipython3",
   "version": "3.8.8"
  }
 },
 "nbformat": 4,
 "nbformat_minor": 4
}
